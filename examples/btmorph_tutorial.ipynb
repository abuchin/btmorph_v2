{
 "cells": [
  {
   "cell_type": "markdown",
   "metadata": {},
   "source": [
    "# btmorph tutorial\n",
    "\n",
    "An interactive tutorial to learn how to work with btmorph.\n",
    "\n",
    "Reminder: in Ipython/jupyther notebooks, you can execute code by pressing \"Shift-Enter\" inside a cell. Also remind that a notebook is just a front-end to an Ipython session. Thus, all executed cells are in memory. At latr points in the same notebook, you can still use variables that were declared earlier. A corollary is that you will need to proceed sequentially through a notebook. Executing each cell because otherwise some later cells might not execute correctly.\n",
    "\n",
    "## Getting started\n",
    "\n",
    "We start by setting up the notebook itself and loading some required Python modules."
   ]
  },
  {
   "cell_type": "code",
   "execution_count": null,
   "metadata": {
    "collapsed": false
   },
   "outputs": [],
   "source": [
    "# new jupyter stuff to enable inline plotting for matplotlib\n",
    "%matplotlib inline\n",
    "\n",
    "import matplotlib.pyplot as plt\n",
    "import numpy as np\n",
    "\n",
    "import sys\n",
    "sys.path.append(\"..\")\n",
    "import btmorph2"
   ]
  },
  {
   "cell_type": "code",
   "execution_count": null,
   "metadata": {
    "collapsed": false
   },
   "outputs": [],
   "source": [
    "pwd # make sure you are in the \"examples\" folder"
   ]
  },
  {
   "cell_type": "markdown",
   "metadata": {},
   "source": [
    "## Basics: explore one neuronal structure\n",
    "\n",
    "The most prominent object in btmorph is a NeuronMorphology. Such an object can be created by giving an SWC file as argument. Once the object is created, you can access all the functions"
   ]
  },
  {
   "cell_type": "code",
   "execution_count": null,
   "metadata": {
    "collapsed": false
   },
   "outputs": [],
   "source": [
    "neuron1 = btmorph2.NeuronMorphology(\"data/v_e_moto1.CNG.swc\")"
   ]
  },
  {
   "cell_type": "markdown",
   "metadata": {},
   "source": [
    "There are two different types of morphometric measurements: scalar and vector measures. Scalar measures have one value per neuron while vector measures consist of multiples values.\n",
    "\n",
    "The total length and the number of terminal tips are examples of scalar measures. You can access them as shown below."
   ]
  },
  {
   "cell_type": "code",
   "execution_count": null,
   "metadata": {
    "collapsed": false
   },
   "outputs": [],
   "source": [
    "\"\"\" get the total length, a scalar morphometric feature \"\"\"\n",
    "total_length = neuron1.total_length()\n",
    "print 'Total neurite length=%f' % total_length\n",
    "\n",
    "\"\"\" get the topological measure of leaf node in the tree\"\"\"\n",
    "no_terminals = neuron1.no_terminals()\n",
    "print 'Number of terminals=%f' % no_terminals"
   ]
  },
  {
   "cell_type": "markdown",
   "metadata": {
    "collapsed": true
   },
   "source": [
    "**Exercise**\n",
    "\n",
    "Now try some of the other function you can call on a NeuronMorphology object. In Ipython/Jupyther notebooks this can be done by typing the name of the object and then press Tab. (Don't try the animate and GL functions; installation of additional packages is required to run those.)\n",
    "\n",
    "You can also check the documentation of functions in a notebook. Select a function type \"?\" behind it. Execute the cell and documentation will be shown."
   ]
  },
  {
   "cell_type": "code",
   "execution_count": null,
   "metadata": {
    "collapsed": false
   },
   "outputs": [],
   "source": [
    "neuron1."
   ]
  },
  {
   "cell_type": "markdown",
   "metadata": {},
   "source": [
    "Now probe a vector morphometric, for instance the segment length. Clearly, summing all segments lengths together should give us the total segment length as before."
   ]
  },
  {
   "cell_type": "code",
   "execution_count": null,
   "metadata": {
    "collapsed": false
   },
   "outputs": [],
   "source": [
    "point_of_interest = neuron1.get_points_of_interest()\n",
    "bif_nodes = point_of_interest[1]\n",
    "term_nodes = point_of_interest[2]\n",
    "all_nodes = bif_nodes + term_nodes\n",
    "total_length = 0\n",
    "for node in all_nodes:\n",
    "    L = neuron1.get_segment_pathlength(node)\n",
    "    total_length = total_length + L\n",
    "print(\"Total length (computed the lengthy way): {}\".format(total_length))"
   ]
  },
  {
   "cell_type": "markdown",
   "metadata": {},
   "source": [
    "**Exercise**\n",
    "\n",
    "Can you adapt the previous code snippet to plot a histogram of the terminal segment length?"
   ]
  },
  {
   "cell_type": "code",
   "execution_count": null,
   "metadata": {
    "collapsed": false
   },
   "outputs": [],
   "source": []
  },
  {
   "cell_type": "markdown",
   "metadata": {},
   "source": [
    "**Python exercise** \n",
    "\n",
    "Can replace the loop?"
   ]
  },
  {
   "cell_type": "code",
   "execution_count": null,
   "metadata": {
    "collapsed": false
   },
   "outputs": [],
   "source": []
  },
  {
   "cell_type": "markdown",
   "metadata": {},
   "source": [
    "In case you haven't done yet so far: how does the structure that we played with look like?\n",
    "\n",
    "There are various plotting functions build in. Most relevant are 2D/3D plot and the dendrogram"
   ]
  },
  {
   "cell_type": "code",
   "execution_count": null,
   "metadata": {
    "collapsed": false
   },
   "outputs": [],
   "source": [
    "neuron1.plot_2D()"
   ]
  },
  {
   "cell_type": "raw",
   "metadata": {},
   "source": [
    "The standard 2D plotting method has some handy options. For instance, you can change the color scheme. (Unfortunately, in btmorph_v2 not all visualizations are implemented yet; nor is the documentation complete)"
   ]
  },
  {
   "cell_type": "code",
   "execution_count": null,
   "metadata": {
    "collapsed": false
   },
   "outputs": [],
   "source": [
    "pyramid = btmorph2.NeuronMorphology(\"data/CTh5080306F.CNG_filtered.swc\")\n",
    "pyramid.plot_2D(color_scheme=\"neuromorpho\")"
   ]
  },
  {
   "cell_type": "markdown",
   "metadata": {},
   "source": [
    "You can overwrite the radii. For technical reasons, there is no nice solution but it is possible."
   ]
  },
  {
   "cell_type": "code",
   "execution_count": null,
   "metadata": {
    "collapsed": false
   },
   "outputs": [],
   "source": [
    "from btmorph2 import config\n",
    "config.fake_radius=1\n",
    "pyramid.plot_2D(color_scheme=\"neuromorpho\", show_radius=False)"
   ]
  },
  {
   "cell_type": "markdown",
   "metadata": {},
   "source": [
    "## Exercise\n",
    "\n",
    "1. Download a digitized morphlogy from NeuroMorpho [this one](http://neuromorpho.org/neuron_info.jsp?neuron_name=B8-16) and explore its features (total length, no. of bifurcations, distributions of segment lengths, etc...)\n",
    "\n",
    "2. Download another morphology (pick something exotic) and check whether the vector morphometrics are distinct from the other neuron. (Use ranksums as an easy non-parametric test) (What would happen when you download two similar neuronal structures from the same cell type? why?)"
   ]
  },
  {
   "cell_type": "code",
   "execution_count": null,
   "metadata": {
    "collapsed": true
   },
   "outputs": [],
   "source": []
  }
 ],
 "metadata": {
  "anaconda-cloud": {},
  "kernelspec": {
   "display_name": "Python [default]",
   "language": "python",
   "name": "python2"
  },
  "language_info": {
   "codemirror_mode": {
    "name": "ipython",
    "version": 2
   },
   "file_extension": ".py",
   "mimetype": "text/x-python",
   "name": "python",
   "nbconvert_exporter": "python",
   "pygments_lexer": "ipython2",
   "version": "2.7.9"
  }
 },
 "nbformat": 4,
 "nbformat_minor": 1
}
